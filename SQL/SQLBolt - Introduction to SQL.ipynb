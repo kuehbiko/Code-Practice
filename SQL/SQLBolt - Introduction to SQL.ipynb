{
 "cells": [
  {
   "cell_type": "markdown",
   "id": "6d6bdf6f",
   "metadata": {},
   "source": [
    "# SQLBolt - Introduction to SQL"
   ]
  },
  {
   "cell_type": "markdown",
   "id": "62a0eed1",
   "metadata": {},
   "source": [
    "### SQL Lesson 1: SELECT queries 101\n",
    "Find the title of each film \\\n",
    "Find the director of each film\n",
    "Find the title and director of each film \\\n",
    "Find the title and year of each film \\\n",
    "Find all the information about each film"
   ]
  },
  {
   "cell_type": "markdown",
   "id": "f71264c2",
   "metadata": {},
   "source": [
    "### SQL Lesson 2: Queries with constraints (Pt. 1)"
   ]
  },
  {
   "cell_type": "raw",
   "id": "5670de60",
   "metadata": {},
   "source": [
    "Operators:\n",
    "=, !=, < <=, >, >=\n",
    "BETWEEN … AND …\n",
    "NOT BETWEEN … AND …\n",
    "IN (…)\n",
    "NOT IN (…)\n",
    "Find the movie with a row id of 6\n",
    "Find the movies released in the years between 2000 and 2010\n",
    "Find the movies not released in the years between 2000 and 2010\n",
    "Find the first 5 Pixar movies and their release year"
   ]
  },
  {
   "cell_type": "markdown",
   "id": "c4e537ba",
   "metadata": {},
   "source": [
    "### SQL Lesson 3: Queries with constraints (Pt. 2)"
   ]
  },
  {
   "cell_type": "raw",
   "id": "e4085be5",
   "metadata": {},
   "source": [
    "Operators:\n",
    "'='\n",
    "!= or <>\n",
    "LIKE\n",
    "NOT LIKE\n",
    "% \n",
    "_\n",
    "IN (…)\n",
    "NOT IN (…)\n",
    "Find all the Toy Story movies\n",
    "Find all the movies directed by John Lasseter\n",
    "Find all the movies (and director) not directed by John Lasseter\n",
    "Find all the WALL-* movies"
   ]
  },
  {
   "cell_type": "markdown",
   "id": "88afd987",
   "metadata": {},
   "source": [
    "### SQL Lesson 10: Queries with aggregates (Pt. 1) - Completed 21 Sep 2022"
   ]
  },
  {
   "cell_type": "markdown",
   "id": "9fbebdb6",
   "metadata": {},
   "source": [
    "### SQL Lesson 11: Queries with aggregates (Pt. 2) - Completed 22 Sep 2022"
   ]
  },
  {
   "cell_type": "raw",
   "id": "d446c31f",
   "metadata": {},
   "source": [
    "-- Find the number of Artists in the studio (without a HAVING clause)\n",
    "\n",
    "SELECT COUNT(role) \n",
    "FROM employees \n",
    "WHERE role = 'Artist'\n",
    "\n",
    "-- Find the number of Employees of each role in the studio\n",
    "\n",
    "SELECT role, count(*) \n",
    "FROM employees \n",
    "GROUP BY role\n",
    "\n",
    "-- Find the total number of years employed by all Engineers\n",
    "\n",
    "SELECT role, SUM(years_employed) \n",
    "FROM employees \n",
    "WHERE role = 'Engineer'"
   ]
  },
  {
   "cell_type": "markdown",
   "id": "635cef8e",
   "metadata": {},
   "source": [
    "### SQL Lesson 12: Order of execution of a Query - Completed 22 Sep 2022"
   ]
  },
  {
   "cell_type": "raw",
   "id": "f71a3dd4",
   "metadata": {},
   "source": [
    "-- Find the number of movies each director has directed\n",
    "\n",
    "SELECT COUNT(Title), director \n",
    "FROM movies \n",
    "GROUP BY director\n",
    "\n",
    "-- Find the total domestic and international sales that can be attributed to each director\n",
    "\n",
    "SELECT director, SUM(domestic_sales + international_sales) AS total_sales\n",
    "FROM movies\n",
    "JOIN boxoffice\n",
    "ON id = movie_id\n",
    "GROUP BY director"
   ]
  },
  {
   "cell_type": "markdown",
   "id": "400d75dc",
   "metadata": {},
   "source": [
    "### SQL Lesson 13: Inserting rows - Completed 22 Sep 2022"
   ]
  },
  {
   "cell_type": "raw",
   "id": "51236e1e",
   "metadata": {},
   "source": [
    "-- Add the studio's new production, Toy Story 4 to the list of movies (you can use any director)\n",
    "\n",
    "INSERT INTO movies\n",
    "(title, director, year, length_minutes)\n",
    "VALUES ('Toy Story 4', 'Pete Docter', 2022, 100 )\n",
    "\n",
    "-- Toy Story 4 has been released to critical acclaim! It had a rating of 8.7, and made 340 million domestically and 270 million internationally. Add the record to the BoxOffice table.\n",
    "\n",
    "INSERT INTO boxoffice\n",
    "VALUES (4, 8.7, 340000000, 270000000);"
   ]
  },
  {
   "cell_type": "markdown",
   "id": "5d6bf37b",
   "metadata": {},
   "source": [
    "### SQL Lesson 14: Updating rows - Completed 24 Sep 2022"
   ]
  },
  {
   "cell_type": "raw",
   "id": "39d1264a",
   "metadata": {},
   "source": [
    "-- The director for A Bug's Life is incorrect, it was actually directed by John Lasseter\n",
    "\n",
    "UPDATE movies\n",
    "SET director = \"John Lasseter\"\n",
    "WHERE title = \"A Bug's Life\"; \n",
    "\n",
    "-- The year that Toy Story 2 was released is incorrect, it was actually released in 1999\n",
    "\n",
    "UPDATE movies\n",
    "SET year = 1999\n",
    "WHERE title = \"Toy Story 2\";\n",
    "\n",
    "-- Both the title and director for Toy Story 8 is incorrect! The title should be \"Toy Story 3\" and it was directed by Lee Unkrich\n",
    "\n",
    "UPDATE movies\n",
    "SET title = \"Toy Story 3\", director = \"Lee Unkrich\"\n",
    "WHERE title = \"Toy Story 8\""
   ]
  },
  {
   "cell_type": "markdown",
   "id": "f2268ec8",
   "metadata": {},
   "source": [
    "### SQL Lesson 15: Deleting rows - Completed 24 Sep 2022"
   ]
  },
  {
   "cell_type": "raw",
   "id": "dd31a9bd",
   "metadata": {},
   "source": [
    "-- This database is getting too big, lets remove all movies that were released before 2005.\n",
    "\n",
    "DELETE FROM movies\n",
    "WHERE year < 2005;\n",
    "\n",
    "-- Andrew Stanton has also left the studio, so please remove all movies directed by him.\n",
    "\n",
    "DELETE FROM movies\n",
    "WHERE director = \"Andrew Stanton\";"
   ]
  },
  {
   "cell_type": "markdown",
   "id": "d5d2c9e8",
   "metadata": {},
   "source": [
    "### SQL Lesson 16: Creating tables - Completed 24 Sep 2022"
   ]
  },
  {
   "cell_type": "markdown",
   "id": "0e13b17d",
   "metadata": {},
   "source": [
    "```-- Create a new table named Database with the following columns:\n",
    "– Name A string (text) describing the name of the database\n",
    "– Version A number (floating point) of the latest version of this database\n",
    "– Download_count An integer count of the number of times this database was downloaded\n",
    "This table has no constraints.\n",
    "\n",
    "CREATE TABLE database (\n",
    "name TEXT,\n",
    "version FLOAT,\n",
    "download_count INTEGER\n",
    ");```"
   ]
  }
 ],
 "metadata": {
  "kernelspec": {
   "display_name": "Python 3 (ipykernel)",
   "language": "python",
   "name": "python3"
  },
  "language_info": {
   "codemirror_mode": {
    "name": "ipython",
    "version": 3
   },
   "file_extension": ".py",
   "mimetype": "text/x-python",
   "name": "python",
   "nbconvert_exporter": "python",
   "pygments_lexer": "ipython3",
   "version": "3.9.12"
  }
 },
 "nbformat": 4,
 "nbformat_minor": 5
}
